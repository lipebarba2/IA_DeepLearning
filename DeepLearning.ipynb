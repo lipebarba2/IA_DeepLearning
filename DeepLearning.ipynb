{
 "cells": [
  {
   "cell_type": "code",
   "execution_count": 1,
   "id": "6200751c-5fa7-45da-ae4c-0a356bfaa1e2",
   "metadata": {},
   "outputs": [],
   "source": [
    "import numpy as np"
   ]
  },
  {
   "cell_type": "code",
   "execution_count": 2,
   "id": "cb4a7b91-2ee4-46da-ba22-b85ba3dffb32",
   "metadata": {},
   "outputs": [],
   "source": [
    "entradas = np.array([[0,0], [0,1], [1,0], [1,1]])\n",
    "saidas = np.array([0,0,0,1])\n",
    "pesos = np.array([0.0, 0.0])\n",
    "taxaAprendizagem = 0.1"
   ]
  },
  {
   "cell_type": "code",
   "execution_count": 3,
   "id": "d00090ee-767d-4064-8cba-27cbfacb4968",
   "metadata": {},
   "outputs": [],
   "source": [
    "def stepFunction(soma):\n",
    "    if (soma >= 1):\n",
    "        return 1\n",
    "    return 0"
   ]
  },
  {
   "cell_type": "code",
   "execution_count": 4,
   "id": "3f32b6d8-ed78-4971-bf56-3bb875636bd1",
   "metadata": {},
   "outputs": [],
   "source": [
    "def calculaSaida(registro):\n",
    "    s = registro.dot(pesos)\n",
    "    return stepFunction(s)"
   ]
  },
  {
   "cell_type": "code",
   "execution_count": 5,
   "id": "45f60dec-d90a-4bff-a5ac-3e0a2d00197d",
   "metadata": {},
   "outputs": [],
   "source": [
    "def treinar():\n",
    "    erroTotal = 1\n",
    "    while (erroTotal != 0):\n",
    "        erroTotal = 0\n",
    "        for i in range(len(saidas)):\n",
    "            saidaCalculada = calculaSaida(np.asarray(entradas[i]))\n",
    "            erro = abs(saidas[i] - saidaCalculada)\n",
    "            erroTotal += erro\n",
    "            for j in range(len(pesos)):\n",
    "                pesos[j] = pesos[j] + (taxaAprendizagem * entradas[i][j] * erro)\n",
    "                print('Peso atualizado: ' + str(pesos[j]))\n",
    "        print('Total de erros: ' + str(erroTotal))\n",
    "                "
   ]
  },
  {
   "cell_type": "code",
   "execution_count": 6,
   "id": "3193d662-e923-455e-98e8-d2486b28287a",
   "metadata": {},
   "outputs": [
    {
     "name": "stdout",
     "output_type": "stream",
     "text": [
      "Peso atualizado: 0.0\n",
      "Peso atualizado: 0.0\n",
      "Peso atualizado: 0.0\n",
      "Peso atualizado: 0.0\n",
      "Peso atualizado: 0.0\n",
      "Peso atualizado: 0.0\n",
      "Peso atualizado: 0.1\n",
      "Peso atualizado: 0.1\n",
      "Total de erros: 1\n",
      "Peso atualizado: 0.1\n",
      "Peso atualizado: 0.1\n",
      "Peso atualizado: 0.1\n",
      "Peso atualizado: 0.1\n",
      "Peso atualizado: 0.1\n",
      "Peso atualizado: 0.1\n",
      "Peso atualizado: 0.2\n",
      "Peso atualizado: 0.2\n",
      "Total de erros: 1\n",
      "Peso atualizado: 0.2\n",
      "Peso atualizado: 0.2\n",
      "Peso atualizado: 0.2\n",
      "Peso atualizado: 0.2\n",
      "Peso atualizado: 0.2\n",
      "Peso atualizado: 0.2\n",
      "Peso atualizado: 0.30000000000000004\n",
      "Peso atualizado: 0.30000000000000004\n",
      "Total de erros: 1\n",
      "Peso atualizado: 0.30000000000000004\n",
      "Peso atualizado: 0.30000000000000004\n",
      "Peso atualizado: 0.30000000000000004\n",
      "Peso atualizado: 0.30000000000000004\n",
      "Peso atualizado: 0.30000000000000004\n",
      "Peso atualizado: 0.30000000000000004\n",
      "Peso atualizado: 0.4\n",
      "Peso atualizado: 0.4\n",
      "Total de erros: 1\n",
      "Peso atualizado: 0.4\n",
      "Peso atualizado: 0.4\n",
      "Peso atualizado: 0.4\n",
      "Peso atualizado: 0.4\n",
      "Peso atualizado: 0.4\n",
      "Peso atualizado: 0.4\n",
      "Peso atualizado: 0.5\n",
      "Peso atualizado: 0.5\n",
      "Total de erros: 1\n",
      "Peso atualizado: 0.5\n",
      "Peso atualizado: 0.5\n",
      "Peso atualizado: 0.5\n",
      "Peso atualizado: 0.5\n",
      "Peso atualizado: 0.5\n",
      "Peso atualizado: 0.5\n",
      "Peso atualizado: 0.5\n",
      "Peso atualizado: 0.5\n",
      "Total de erros: 0\n"
     ]
    }
   ],
   "source": [
    "treinar()"
   ]
  },
  {
   "cell_type": "markdown",
   "id": "3ca74f82-c5ed-46d6-b188-c63aa87cc6a0",
   "metadata": {},
   "source": [
    "# ATUALIZA O PESO - PESO(N+1) = PESO(N) + (TAXAAPRENDIZAGEM * ENTRADA * ERRO)"
   ]
  },
  {
   "cell_type": "code",
   "execution_count": 8,
   "id": "2f31c101-8620-4f0f-80bc-85ddece22228",
   "metadata": {},
   "outputs": [
    {
     "name": "stdout",
     "output_type": "stream",
     "text": [
      "rede neural treinada\n",
      "0\n",
      "0\n",
      "0\n",
      "1\n"
     ]
    }
   ],
   "source": [
    "print('rede neural treinada')\n",
    "print(calculaSaida(entradas[0]))\n",
    "print(calculaSaida(entradas[1]))\n",
    "print(calculaSaida(entradas[2]))\n",
    "print(calculaSaida(entradas[3]))"
   ]
  },
  {
   "cell_type": "code",
   "execution_count": 19,
   "id": "ebdc6f87-6226-41af-9a39-fa4b580fd52e",
   "metadata": {},
   "outputs": [],
   "source": [
    "def sigmoid(soma):\n",
    "    return 1 / (1 + np.exp(- soma))"
   ]
  },
  {
   "cell_type": "code",
   "execution_count": 21,
   "id": "7bae0b3b-16b9-48cc-956e-e939d38b154c",
   "metadata": {},
   "outputs": [],
   "source": [
    "entradas = np.array([[0,0],\n",
    "                     [0,1],\n",
    "                     [1,0],\n",
    "                     [1,1]])"
   ]
  },
  {
   "cell_type": "code",
   "execution_count": 23,
   "id": "8ab9e33d-80a3-4cab-b15d-42c8f5e6910c",
   "metadata": {},
   "outputs": [],
   "source": [
    "saidas = np.array([[0],[1],[1],[0]])"
   ]
  },
  {
   "cell_type": "code",
   "execution_count": 27,
   "id": "6647e690-311e-4b70-af56-b3b18d377324",
   "metadata": {},
   "outputs": [],
   "source": [
    "pesos0 = np.array([[-0.424, -0.740, -0.961],\n",
    "                   [0.358, -0.893, -0.148]])"
   ]
  },
  {
   "cell_type": "code",
   "execution_count": 29,
   "id": "f808428c-9666-4ff3-be88-3513a3c0a1d7",
   "metadata": {},
   "outputs": [],
   "source": [
    "peso1 = np.array([[-0.017], [-0.893], [0.148]])"
   ]
  },
  {
   "cell_type": "code",
   "execution_count": 31,
   "id": "8f5f63c7-c697-437d-b677-40c00d64bda7",
   "metadata": {},
   "outputs": [],
   "source": [
    "epocas = 100\n",
    "for j in range(epocas):\n",
    "    camadaEntrada = entradas\n",
    "    somaSinapse0 = np.dot(camadaEntrada, pesos0)\n",
    "    camadaOculta = sigmoid(somaSinapse0)\n",
    "\n",
    "    somaSinapse1 = np.dot(camadaOculta, peso1)\n",
    "    camadaSaida = sigmoid(somaSinapse1)"
   ]
  },
  {
   "cell_type": "code",
   "execution_count": 33,
   "id": "f425a885-4349-43f3-b68e-f79ac5215106",
   "metadata": {},
   "outputs": [
    {
     "name": "stdout",
     "output_type": "stream",
     "text": [
      "[[0.5        0.5        0.5       ]\n",
      " [0.5885562  0.29049112 0.46306739]\n",
      " [0.39555998 0.32300414 0.27667802]\n",
      " [0.48350599 0.16341981 0.24805737]]\n"
     ]
    }
   ],
   "source": [
    "print(camadaOculta)"
   ]
  },
  {
   "cell_type": "code",
   "execution_count": 57,
   "id": "81f09706-bc74-4c74-a287-d957c0d14c9a",
   "metadata": {},
   "outputs": [
    {
     "name": "stdin",
     "output_type": "stream",
     "text": [
      "Digite sua idade 25\n"
     ]
    },
    {
     "name": "stdout",
     "output_type": "stream",
     "text": [
      "censura: Apenas maiores de 18 anos\n"
     ]
    }
   ],
   "source": [
    "   "
   ]
  },
  {
   "cell_type": "code",
   "execution_count": null,
   "id": "15c5379a-2722-4f71-abad-3dc2f5fe1927",
   "metadata": {},
   "outputs": [],
   "source": []
  }
 ],
 "metadata": {
  "kernelspec": {
   "display_name": "Python 3 (ipykernel)",
   "language": "python",
   "name": "python3"
  },
  "language_info": {
   "codemirror_mode": {
    "name": "ipython",
    "version": 3
   },
   "file_extension": ".py",
   "mimetype": "text/x-python",
   "name": "python",
   "nbconvert_exporter": "python",
   "pygments_lexer": "ipython3",
   "version": "3.12.3"
  }
 },
 "nbformat": 4,
 "nbformat_minor": 5
}
